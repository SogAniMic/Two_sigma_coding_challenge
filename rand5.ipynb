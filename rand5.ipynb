{
 "cells": [
  {
   "cell_type": "markdown",
   "id": "179d8232",
   "metadata": {},
   "source": [
    "# Using a function rand7() that returns an integer from 1 to 7 (inclusive) with uniform probability, implement a function rand5() that returns an integer from 1 to 5 (inclusive)."
   ]
  },
  {
   "cell_type": "code",
   "execution_count": null,
   "id": "08190e4d",
   "metadata": {},
   "outputs": [],
   "source": [
    "def rand5():\n",
    "    r = rand7()\n",
    "    if 1 <= r <= 5:\n",
    "        return r\n",
    "    return rand5()"
   ]
  }
 ],
 "metadata": {
  "kernelspec": {
   "display_name": "Python 3 (ipykernel)",
   "language": "python",
   "name": "python3"
  },
  "language_info": {
   "codemirror_mode": {
    "name": "ipython",
    "version": 3
   },
   "file_extension": ".py",
   "mimetype": "text/x-python",
   "name": "python",
   "nbconvert_exporter": "python",
   "pygments_lexer": "ipython3",
   "version": "3.9.13"
  }
 },
 "nbformat": 4,
 "nbformat_minor": 5
}
