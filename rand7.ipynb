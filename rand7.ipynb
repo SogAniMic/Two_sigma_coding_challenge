{
 "cells": [
  {
   "cell_type": "markdown",
   "id": "0c4535d4",
   "metadata": {},
   "source": [
    "# Using a function rand5() that returns an integer from 1 to 5 (inclusive) with uniform probability, implement a function rand7() that returns an integer from 1 to 7 (inclusive)."
   ]
  },
  {
   "cell_type": "code",
   "execution_count": null,
   "id": "54dc6b32",
   "metadata": {},
   "outputs": [],
   "source": [
    "def rand7():\n",
    "    r1, r2 = rand5(), rand5()\n",
    "    if r2 <= 3:\n",
    "        return r1\n",
    "    elif r2 == 4:\n",
    "        if r1 <= 3:\n",
    "            return 6\n",
    "        else:\n",
    "            return rand7()\n",
    "    else: # r2 == 5\n",
    "        if r1 <= 3:\n",
    "            return 7\n",
    "        else:\n",
    "            return rand7()"
   ]
  }
 ],
 "metadata": {
  "kernelspec": {
   "display_name": "Python 3 (ipykernel)",
   "language": "python",
   "name": "python3"
  },
  "language_info": {
   "codemirror_mode": {
    "name": "ipython",
    "version": 3
   },
   "file_extension": ".py",
   "mimetype": "text/x-python",
   "name": "python",
   "nbconvert_exporter": "python",
   "pygments_lexer": "ipython3",
   "version": "3.9.13"
  }
 },
 "nbformat": 4,
 "nbformat_minor": 5
}
